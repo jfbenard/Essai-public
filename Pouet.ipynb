{
 "cells": [
  {
   "cell_type": "markdown",
   "metadata": {},
   "source": [
    "<h1> Bosses un peu ! </h1>\n",
    "<p> C'est un peu <strong>facile</strong>,<i>non ?</i>"
   ]
  },
  {
   "cell_type": "code",
   "execution_count": 4,
   "metadata": {},
   "outputs": [
    {
     "name": "stdout",
     "output_type": "stream",
     "text": [
      "Crée une liste\n",
      "à partir d'une liste vide\n",
      "voilà un exemple\n",
      "[3.14159]\n"
     ]
    }
   ],
   "source": [
    "print(\"Crée une liste\")\n",
    "print(\"à partir d'une liste vide\")\n",
    "une_liste=[]\n",
    "une_liste.append(3.14159)\n",
    "print(\"voilà un exemple\")\n",
    "print(une_liste)"
   ]
  },
  {
   "cell_type": "code",
   "execution_count": null,
   "metadata": {},
   "outputs": [],
   "source": []
  }
 ],
 "metadata": {
  "kernelspec": {
   "display_name": "Python 3",
   "language": "python",
   "name": "python3"
  },
  "language_info": {
   "codemirror_mode": {
    "name": "ipython",
    "version": 3
   },
   "file_extension": ".py",
   "mimetype": "text/x-python",
   "name": "python",
   "nbconvert_exporter": "python",
   "pygments_lexer": "ipython3",
   "version": "3.7.4"
  }
 },
 "nbformat": 4,
 "nbformat_minor": 2
}
